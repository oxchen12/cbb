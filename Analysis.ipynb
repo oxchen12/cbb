{
 "cells": [
  {
   "cell_type": "markdown",
   "metadata": {},
   "source": [
    "# Analysis\n",
    "\n",
    "Example use case of CBB data utilities."
   ]
  },
  {
   "cell_type": "code",
   "execution_count": 2,
   "metadata": {},
   "outputs": [],
   "source": [
    "import json\n",
    "import pandas as pd\n",
    "from util import *\n",
    "from dataclasses import dataclass"
   ]
  },
  {
   "cell_type": "code",
   "execution_count": 3,
   "metadata": {},
   "outputs": [
    {
     "name": "stdout",
     "output_type": "stream",
     "text": [
      "+-------------------+-----+-----+-----+-------+------+------+-------+------+------+------+-----+-----+-----+----+----+\n",
      "|        Name       | Pts | FGM | FGA |  FG%  | 3PTM | 3PTA |  3PT% | OReb | DReb | TReb | Ast | Stl | Blk | TO | PF |\n",
      "+-------------------+-----+-----+-----+-------+------+------+-------+------+------+------+-----+-----+-----+----+----+\n",
      "|   Jalin Sinclair  |  3  |  1  |  4  |  25.0 |  1   |  2   |  50.0 |  0   |  1   |  1   |  2  |  1  |  0  | 2  | 2  |\n",
      "|      RJ Davis     |  22 |  8  |  14 |  57.1 |  3   |  6   |  50.0 |  1   |  3   |  4   |  1  |  3  |  0  | 3  | 0  |\n",
      "|   Armando Bacot   |  22 |  8  |  14 |  57.1 |  0   |  0   |  0.0  |  6   |  14  |  20  |  1  |  2  |  0  | 1  | 1  |\n",
      "|   Paxson Wojcik   |  2  |  0  |  2  |  0.0  |  0   |  1   |  0.0  |  1   |  1   |  2   |  0  |  0  |  0  | 1  | 3  |\n",
      "|  Harrison Ingram  |  14 |  6  |  11 |  54.5 |  1   |  3   |  33.3 |  2   |  5   |  7   |  1  |  0  |  1  | 1  | 2  |\n",
      "|  Dominic Parolin  |  7  |  3  |  10 |  30.0 |  1   |  5   |  20.0 |  2   |  3   |  5   |  3  |  0  |  0  | 1  | 1  |\n",
      "|    Cormac Ryan    |  6  |  2  |  7  |  28.6 |  0   |  3   |  0.0  |  0   |  2   |  2   |  3  |  1  |  0  | 1  | 1  |\n",
      "| Keith Higgins Jr. |  16 |  7  |  13 |  53.8 |  2   |  5   |  40.0 |  0   |  3   |  3   |  2  |  2  |  0  | 1  | 1  |\n",
      "|     Bube Momah    |  2  |  0  |  3  |  0.0  |  0   |  0   |  0.0  |  1   |  0   |  1   |  0  |  0  |  0  | 1  | 3  |\n",
      "|       JT Tan      |  2  |  1  |  3  |  33.3 |  0   |  0   |  0.0  |  1   |  1   |  2   |  1  |  2  |  0  | 1  | 4  |\n",
      "|   Mountain Hawks  |  0  |  0  |  0  |  0.0  |  0   |  0   |  0.0  |  2   |  2   |  4   |  0  |  0  |  0  | 0  | 0  |\n",
      "|   Burke Chebuhar  |  6  |  2  |  5  |  40.0 |  2   |  4   |  50.0 |  1   |  1   |  2   |  2  |  0  |  1  | 0  | 3  |\n",
      "|   Elliot Cadeau   |  7  |  3  |  8  |  37.5 |  0   |  3   |  0.0  |  0   |  2   |  2   |  0  |  1  |  0  | 2  | 0  |\n",
      "|   Nasir Whitlock  |  5  |  2  |  8  |  25.0 |  0   |  3   |  0.0  |  0   |  2   |  2   |  1  |  0  |  0  | 0  | 0  |\n",
      "|  Jae'Lyn Withers  |  4  |  2  |  5  |  40.0 |  0   |  0   |  0.0  |  0   |  3   |  3   |  1  |  1  |  0  | 0  | 1  |\n",
      "|    Ben Knostman   |  0  |  0  |  0  |  0.0  |  0   |  0   |  0.0  |  0   |  0   |  0   |  2  |  0  |  0  | 0  | 2  |\n",
      "|   Joshua Ingram   |  3  |  1  |  4  |  25.0 |  1   |  3   |  33.3 |  0   |  3   |  3   |  0  |  0  |  0  | 2  | 2  |\n",
      "|     Tar Heels     |  0  |  0  |  0  |  0.0  |  0   |  0   |  0.0  |  1   |  2   |  3   |  0  |  0  |  0  | 0  | 0  |\n",
      "|   Henri Adiassa   |  0  |  0  |  1  |  0.0  |  0   |  0   |  0.0  |  1   |  2   |  3   |  0  |  0  |  1  | 1  | 3  |\n",
      "|    Seth Trimble   |  3  |  0  |  1  |  0.0  |  0   |  0   |  0.0  |  1   |  0   |  1   |  3  |  0  |  1  | 0  | 0  |\n",
      "|    Zayden High    |  2  |  0  |  0  |  0.0  |  0   |  0   |  0.0  |  2   |  3   |  5   |  1  |  1  |  0  | 0  | 0  |\n",
      "|     Cam Gillus    |  8  |  3  |  3  | 100.0 |  2   |  2   | 100.0 |  0   |  1   |  1   |  0  |  1  |  0  | 1  | 0  |\n",
      "|  Jalen Washington |  5  |  1  |  1  | 100.0 |  0   |  0   |  0.0  |  0   |  1   |  1   |  0  |  0  |  0  | 1  | 0  |\n",
      "|   Jayshen Saigal  |  3  |  1  |  1  | 100.0 |  1   |  1   | 100.0 |  0   |  0   |  0   |  0  |  1  |  0  | 0  | 0  |\n",
      "|   Tommy Conniff   |  0  |  0  |  1  |  0.0  |  0   |  0   |  0.0  |  0   |  1   |  1   |  0  |  0  |  1  | 0  | 0  |\n",
      "|    Brendan Reed   |  3  |  1  |  1  | 100.0 |  1   |  1   | 100.0 |  0   |  0   |  0   |  0  |  0  |  0  | 0  | 0  |\n",
      "|    Duwe Farris    |  0  |  0  |  1  |  0.0  |  0   |  0   |  0.0  |  0   |  0   |  0   |  0  |  0  |  0  | 0  | 0  |\n",
      "|     Jake Pike     |  0  |  0  |  1  |  0.0  |  0   |  1   |  0.0  |  0   |  0   |  0   |  0  |  0  |  0  | 0  | 0  |\n",
      "|     Rob Landry    |  3  |  1  |  1  | 100.0 |  1   |  1   | 100.0 |  1   |  1   |  2   |  0  |  0  |  0  | 0  | 0  |\n",
      "|   Creighton Lebo  |  0  |  0  |  1  |  0.0  |  0   |  0   |  0.0  |  0   |  0   |  0   |  0  |  0  |  0  | 0  | 0  |\n",
      "|   James Okonkwo   |  0  |  0  |  1  |  0.0  |  0   |  0   |  0.0  |  1   |  0   |  1   |  0  |  0  |  0  | 0  | 0  |\n",
      "+-------------------+-----+-----+-----+-------+------+------+-------+------+------+------+-----+-----+-----+----+----+\n"
     ]
    }
   ],
   "source": [
    "unc = Team(\"UNC\", \"Tar Heels\", \"https://www.cbssports.com/college-basketball/teams/UNC/north-carolina-tar-heels/schedule/\")\n",
    "box = Box()\n",
    "box.from_game(unc.games[1])\n",
    "box.std_box()"
   ]
  },
  {
   "cell_type": "code",
   "execution_count": null,
   "metadata": {},
   "outputs": [
    {
     "name": "stdout",
     "output_type": "stream",
     "text": [
      "Aubin Gateretse makes regular free throw 1 of 1\n",
      "Jalen Hill misses regular free throw 1 of 1\n",
      "Jalen Blackmon makes technical free throw 1 of 2\n",
      "Jalen Blackmon makes regular free throw 2 of 2\n",
      "Rob Whaley Jr. misses regular free throw 1 of 2\n",
      "Rob Whaley Jr. makes regular free throw 2 of 2\n",
      "Luis Rodriguez misses regular free throw 1 of 2\n",
      "Luis Rodriguez makes regular free throw 2 of 2\n",
      "Luis Rodriguez makes regular free throw 1 of 2\n",
      "Luis Rodriguez makes regular free throw 2 of 2\n",
      "Aubin Gateretse misses regular free throw 1 of 2\n",
      "Aubin Gateretse makes regular free throw 2 of 2\n",
      "Aubin Gateretse makes regular free throw 1 of 1\n",
      "Jalen Hill makes regular free throw 1 of 2\n",
      "Jalen Hill makes regular free throw 2 of 2\n",
      "Jalen Blackmon misses regular free throw 1 of 1\n",
      "Kalib Boone misses regular free throw 1 of 2\n",
      "Kalib Boone makes regular free throw 2 of 2\n",
      "Aubin Gateretse makes regular free throw 1 of 2\n",
      "Aubin Gateretse misses regular free throw 2 of 2\n"
     ]
    }
   ],
   "source": [
    "stetson = Team(\"Stetson\", \"Hatters\", \"https://www.cbssports.com/college-basketball/teams/STETSON/stetson-hatters/schedule/\")\n",
    "for play in stetson.games[1].all_plays:\n",
    "    if play.type == Play.Type.SHOT and play.params['foul_type'] is not None:\n",
    "        print(play.desc)"
   ]
  },
  {
   "cell_type": "code",
   "execution_count": null,
   "metadata": {},
   "outputs": [],
   "source": []
  }
 ],
 "metadata": {
  "kernelspec": {
   "display_name": "Python 3",
   "language": "python",
   "name": "python3"
  },
  "language_info": {
   "codemirror_mode": {
    "name": "ipython",
    "version": 3
   },
   "file_extension": ".py",
   "mimetype": "text/x-python",
   "name": "python",
   "nbconvert_exporter": "python",
   "pygments_lexer": "ipython3",
   "version": "3.10.12"
  }
 },
 "nbformat": 4,
 "nbformat_minor": 2
}
